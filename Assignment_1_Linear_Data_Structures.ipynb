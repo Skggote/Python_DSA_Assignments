{
  "nbformat": 4,
  "nbformat_minor": 0,
  "metadata": {
    "colab": {
      "provenance": []
    },
    "kernelspec": {
      "name": "python3",
      "display_name": "Python 3"
    },
    "language_info": {
      "name": "python"
    }
  },
  "cells": [
    {
      "cell_type": "markdown",
      "source": [
        "# **Assignment-1: Linear Data Structures**\n",
        "\n",
        "---\n",
        "\n"
      ],
      "metadata": {
        "id": "y_faWsmCOBvj"
      }
    },
    {
      "cell_type": "markdown",
      "source": [
        "**Problem for Assignment-1: Linear Data Structures**"
      ],
      "metadata": {
        "id": "LJPvqpC4OUaa"
      }
    },
    {
      "cell_type": "markdown",
      "source": [
        "**Solve these questions in a Jupyter notebook. Share the URL of the Jupyter notebook/GitHub.**\n",
        "\n",
        "**Q1. Write a program to find all pairs of an integer array whose sum is equal to a given number?**"
      ],
      "metadata": {
        "id": "tFVWCTKpOeHL"
      }
    },
    {
      "cell_type": "code",
      "source": [
        "array = eval(input(\"Enter the list:\"))\n",
        "target = int(input(\"Enter number for which we have to find pair:\"))\n",
        "\n",
        "def find_sum(l,m):\n",
        "  for i in range(len(l)):\n",
        "    for j in range(i+1,len(l)):\n",
        "      if (array[i]+array[j]) == m:\n",
        "        print(array[i],array[j])\n",
        "\n",
        "find_sum(array,target)"
      ],
      "metadata": {
        "colab": {
          "base_uri": "https://localhost:8080/"
        },
        "id": "9VbKUpD3ONEn",
        "outputId": "d602f239-789a-4c52-e9c3-4dfb716e5510"
      },
      "execution_count": 6,
      "outputs": [
        {
          "output_type": "stream",
          "name": "stdout",
          "text": [
            "Enter the list:[2, 4, 3, 7, 1, 5, 9]\n",
            "Enter number for which we have to find pair:9\n",
            "2 7\n",
            "4 5\n"
          ]
        }
      ]
    },
    {
      "cell_type": "markdown",
      "source": [
        "**Q2. Write a program to reverse an array in place? In place means you cannot create a new array. You have to update the original array.**"
      ],
      "metadata": {
        "id": "jfH3hKe7Rj-W"
      }
    },
    {
      "cell_type": "code",
      "source": [
        "def reverse_array(arr):\n",
        "  if len(arr)<=1 or len(arr)==0:\n",
        "    print(\"Invalid Array\")\n",
        "\n",
        "  else:\n",
        "    for i in range(len(arr) // 2):\n",
        "      temp = arr[i]\n",
        "      arr[i] = arr[len(arr)-i-1]\n",
        "      arr[len(arr)-i-1] = temp\n",
        "\n",
        "array= eval(input(\"Enter the list: \"))\n",
        "reverse_array(array)\n",
        "print(\"Reversed array:\", array)\n"
      ],
      "metadata": {
        "colab": {
          "base_uri": "https://localhost:8080/"
        },
        "id": "kd7C11CwRb8c",
        "outputId": "f6365050-2807-4e96-bc7f-34369c4b2fbc"
      },
      "execution_count": null,
      "outputs": [
        {
          "output_type": "stream",
          "name": "stdout",
          "text": [
            "Enter the list: [1, 2, 3, 4, 5]\n",
            "Reversed array: [5, 4, 3, 2, 1]\n"
          ]
        }
      ]
    },
    {
      "cell_type": "markdown",
      "source": [
        "**Q3. Write a program to check if two strings are a rotation of each other?:**"
      ],
      "metadata": {
        "id": "-86d7lyAULTx"
      }
    },
    {
      "cell_type": "code",
      "source": [
        "def are_rotations(str1, str2):\n",
        "    if len(str1) != len(str2):\n",
        "      return False\n",
        "    else:\n",
        "      combined = str1 + str1\n",
        "\n",
        "    return str2 in combined\n",
        "\n",
        "string1 = input(\"enter the string: \")\n",
        "string2 = input(\"enter the string: \")\n",
        "\n",
        "if are_rotations(string1, string2):\n",
        "    print(\"The strings are rotations of each other.\")\n",
        "else:\n",
        "    print(\"The strings are not rotations of each other.\")\n",
        "\n"
      ],
      "metadata": {
        "colab": {
          "base_uri": "https://localhost:8080/"
        },
        "id": "uWR9qPyZUS8u",
        "outputId": "4f573277-216b-4b99-8d71-9ef65378e9bb"
      },
      "execution_count": 11,
      "outputs": [
        {
          "output_type": "stream",
          "name": "stdout",
          "text": [
            "enter the string: shubham\n",
            "enter the string: amshubh\n",
            "The strings are rotations of each other.\n"
          ]
        }
      ]
    },
    {
      "cell_type": "markdown",
      "source": [
        "**Q4. Write a program to print the first non-repeated character from a string?**"
      ],
      "metadata": {
        "id": "7PKDy130XcTx"
      }
    },
    {
      "cell_type": "code",
      "source": [
        "from collections import Counter\n",
        "\n",
        "def non_repeat(temp):\n",
        "  res = ''\n",
        "  for key,val in temp.items():\n",
        "    if val == 1:\n",
        "      res = key\n",
        "      break\n",
        "  return res\n",
        "\n",
        "\n",
        "inp = input(\"Enter the string: \").lower()\n",
        "count = Counter(inp)\n",
        "\n",
        "print(\"Non repeated cha is: \", non_repeat(count))\n"
      ],
      "metadata": {
        "colab": {
          "base_uri": "https://localhost:8080/"
        },
        "id": "-xmNh7RmAGRR",
        "outputId": "796bb941-0a42-46e5-b3f2-478d19c44eab"
      },
      "execution_count": null,
      "outputs": [
        {
          "output_type": "stream",
          "name": "stdout",
          "text": [
            "Enter the string: Assassin\n",
            "Non repeated cha is:  i\n"
          ]
        }
      ]
    },
    {
      "cell_type": "markdown",
      "source": [
        "**Q5. Read about the Tower of Hanoi algorithm. Write a program to implement it.**"
      ],
      "metadata": {
        "id": "5Ft7wsw_aAHq"
      }
    },
    {
      "cell_type": "code",
      "source": [
        "def TowerOfHanoi(n , source, destination, auxiliary):\n",
        "\tif n==1:\n",
        "\t\tprint (\"Move disk 1 from source\",source,\"to destination\",destination)\n",
        "\t\treturn\n",
        "\tTowerOfHanoi(n-1, source, auxiliary, destination)\n",
        "\tprint (\"Move disk\",n,\"from source\",source,\"to destination\",destination)\n",
        "\tTowerOfHanoi(n-1, auxiliary, destination, source)\n",
        "\n",
        "n = int(input(\"Enter the number of Disk: \"))\n",
        "TowerOfHanoi(n,'A','B','C')\n",
        "\n"
      ],
      "metadata": {
        "colab": {
          "base_uri": "https://localhost:8080/"
        },
        "id": "otbafjiKdM0I",
        "outputId": "51c73a76-17db-4454-c345-36fd57a533b2"
      },
      "execution_count": null,
      "outputs": [
        {
          "output_type": "stream",
          "name": "stdout",
          "text": [
            "Enter the number of Disk: 3\n",
            "Move disk 1 from source A to destination B\n",
            "Move disk 2 from source A to destination C\n",
            "Move disk 1 from source B to destination C\n",
            "Move disk 3 from source A to destination B\n",
            "Move disk 1 from source C to destination A\n",
            "Move disk 2 from source C to destination B\n",
            "Move disk 1 from source A to destination B\n"
          ]
        }
      ]
    },
    {
      "cell_type": "markdown",
      "source": [
        "**Q6. Read about infix, prefix, and postfix expressions. Write a program to convert postfix to prefix expression.**\n",
        "\n",
        "---\n",
        "\n"
      ],
      "metadata": {
        "id": "u6DlQfimZ7Ch"
      }
    },
    {
      "cell_type": "code",
      "source": [
        "def isOperator(x):\n",
        "\n",
        "\tif x == \"+\":\n",
        "\t\treturn True\n",
        "\n",
        "\tif x == \"-\":\n",
        "\t\treturn True\n",
        "\n",
        "\tif x == \"/\":\n",
        "\t\treturn True\n",
        "\n",
        "\tif x == \"*\":\n",
        "\t\treturn True\n",
        "\n",
        "\treturn False\n",
        "\n",
        "def postToPre(post_exp):\n",
        "\ts = []\n",
        "\n",
        "\tlength = len(post_exp)\n",
        "\n",
        "\tfor i in range(length):\n",
        "\t\tif (isOperator(post_exp[i])):\n",
        "\t\t\top1 = s[-1]\n",
        "\t\t\ts.pop()\n",
        "\t\t\top2 = s[-1]\n",
        "\t\t\ts.pop()\n",
        "\n",
        "\t\t\ttemp = post_exp[i] + op2 + op1\n",
        "\n",
        "\t\t\ts.append(temp)\n",
        "\t\telse:\n",
        "\t\t\ts.append(post_exp[i])\n",
        "\n",
        "\n",
        "\tans = \"\"\n",
        "\tfor i in s:\n",
        "\t\tans += i\n",
        "\treturn ans\n",
        "\n",
        "if __name__ == \"__main__\":\n",
        "\n",
        "\tpost_exp = input(\"Enter the string: \")\n",
        "\n",
        "\tprint(\"Postfix to Prefix : \", postToPre(post_exp))\n"
      ],
      "metadata": {
        "colab": {
          "base_uri": "https://localhost:8080/"
        },
        "id": "sHlDuVpsFLOl",
        "outputId": "3f120705-26ed-4c5e-e2d5-e083c3fc7637"
      },
      "execution_count": null,
      "outputs": [
        {
          "output_type": "stream",
          "name": "stdout",
          "text": [
            "Enter the string: ABC*/DC+Q\n",
            "Postfix to Prefix :  /A*BC+DCQ\n"
          ]
        }
      ]
    },
    {
      "cell_type": "markdown",
      "source": [
        "**Q7. Write a program to convert prefix expression to infix expression.**"
      ],
      "metadata": {
        "id": "yTPMAaRrZ2_s"
      }
    },
    {
      "cell_type": "code",
      "source": [
        "def prefixToInfix(prefix):\n",
        "\tstack = []\n",
        "\n",
        "\ti = len(prefix) - 1\n",
        "\twhile i >= 0:\n",
        "\t\tif not isOperator(prefix[i]):\n",
        "\n",
        "\t\t\tstack.append(prefix[i])\n",
        "\t\t\ti -= 1\n",
        "\t\telse:\n",
        "\n",
        "\t\t\tstr = \"(\" + stack.pop() + prefix[i] + stack.pop() + \")\"\n",
        "\t\t\tstack.append(str)\n",
        "\t\t\ti -= 1\n",
        "\n",
        "\treturn stack.pop()\n",
        "\n",
        "def isOperator(c):\n",
        "\tif c == \"*\" or c == \"+\" or c == \"-\" or c == \"/\" or c == \"^\" or c == \"(\" or c == \")\":\n",
        "\t\treturn True\n",
        "\telse:\n",
        "\t\treturn False\n",
        "\n",
        "if __name__==\"__main__\":\n",
        "\tstr = input(\"Enter the string: \")\n",
        "\tprint(\"Prefix to infix: \", prefixToInfix(str))\n"
      ],
      "metadata": {
        "id": "IlblXVBfiGhe",
        "colab": {
          "base_uri": "https://localhost:8080/"
        },
        "outputId": "4098232c-d81f-4de2-dd99-f50254200321"
      },
      "execution_count": null,
      "outputs": [
        {
          "output_type": "stream",
          "name": "stdout",
          "text": [
            "Enter the string: *-A/BC-/AKL\n",
            "Prefix to infix:  ((A-(B/C))*((A/K)-L))\n"
          ]
        }
      ]
    },
    {
      "cell_type": "markdown",
      "source": [
        ":**Q8. Write a program to check if all the brackets are closed in a given code snippet:**."
      ],
      "metadata": {
        "id": "3cbNYBMdZy10"
      }
    },
    {
      "cell_type": "code",
      "source": [
        "open_list = [\"[\",\"{\",\"(\"]\n",
        "close_list = [\"]\",\"}\",\")\"]\n",
        "\n",
        "def check(myStr):\n",
        "\tstack = []\n",
        "\tfor i in myStr:\n",
        "\t\tif i in open_list:\n",
        "\t\t\tstack.append(i)\n",
        "\t\telif i in close_list:\n",
        "\t\t\tpos = close_list.index(i)\n",
        "\t\t\tif ((len(stack) > 0) and\n",
        "\t\t\t\t(open_list[pos] == stack[len(stack)-1])):\n",
        "\t\t\t\tstack.pop()\n",
        "\t\t\telse:\n",
        "\t\t\t\treturn \"brackets are unclosed\"\n",
        "\tif len(stack) == 0:\n",
        "\t\treturn \"brackets are closed\"\n",
        "\telse:\n",
        "\t\treturn \"brackets are unclosed\"\n",
        "\n",
        "string = input(\"Enter the Bracket String: \")\n",
        "print(\"Input string is: \", string,\"-\", check(string))\n"
      ],
      "metadata": {
        "id": "oW7aPOMfiVq4",
        "colab": {
          "base_uri": "https://localhost:8080/"
        },
        "outputId": "c2725c00-157d-4e1d-c3df-1c140188a8ff"
      },
      "execution_count": 1,
      "outputs": [
        {
          "output_type": "stream",
          "name": "stdout",
          "text": [
            "Enter the Bracket String: [{}{}(]\n",
            "Input string is:  [{}{}(] - brackets are unclosed\n"
          ]
        }
      ]
    },
    {
      "cell_type": "markdown",
      "source": [
        "**Q9. Write a program to reverse a stack.**"
      ],
      "metadata": {
        "id": "RSLfyNQfZuTK"
      }
    },
    {
      "cell_type": "code",
      "source": [
        "class Stack:\n",
        "    def __init__(self):\n",
        "        self.items = []\n",
        "\n",
        "    def is_empty(self):\n",
        "        return self.items == []\n",
        "\n",
        "    def push(self, data):\n",
        "        self.items.append(data)\n",
        "\n",
        "    def pop(self):\n",
        "        return self.items.pop()\n",
        "\n",
        "    def show(self):\n",
        "        for data in reversed(self.items):\n",
        "            print(data)\n",
        "\n",
        "def insert_at_bottom(s, data):\n",
        "    if s.is_empty():\n",
        "        s.push(data)\n",
        "    else:\n",
        "        popped = s.pop()\n",
        "        insert_at_bottom(s, data)\n",
        "        s.push(popped)\n",
        "\n",
        "\n",
        "def reverse_stack(s):\n",
        "    if not s.is_empty():\n",
        "        popped = s.pop()\n",
        "        reverse_stack(s)\n",
        "        insert_at_bottom(s, popped)\n",
        "\n",
        "\n",
        "stk = Stack()\n",
        "data_list = input('Please enter the elements for list: ').split()\n",
        "for data in data_list:\n",
        "    stk.push(int(data))\n",
        "\n",
        "print('The stack:')\n",
        "stk.show()\n",
        "reverse_stack(stk)\n",
        "print('\\nAfter reversing Stack is below :')\n",
        "stk.show()"
      ],
      "metadata": {
        "id": "LnvDk742iXTA",
        "colab": {
          "base_uri": "https://localhost:8080/"
        },
        "outputId": "dcc8ce59-629b-4d4e-f348-59b407eac310"
      },
      "execution_count": 5,
      "outputs": [
        {
          "output_type": "stream",
          "name": "stdout",
          "text": [
            "Please enter the elements for list: 10 20 35 23 45 12 55\n",
            "The stack:\n",
            "55\n",
            "12\n",
            "45\n",
            "23\n",
            "35\n",
            "20\n",
            "10\n",
            "\n",
            "After reversing Stack is below :\n",
            "10\n",
            "20\n",
            "35\n",
            "23\n",
            "45\n",
            "12\n",
            "55\n"
          ]
        }
      ]
    },
    {
      "cell_type": "markdown",
      "source": [
        "**Q10. Write a program to find the smallest number using a stack.**\n",
        "\n",
        "---\n",
        "\n"
      ],
      "metadata": {
        "id": "PPc8asR0ZqsB"
      }
    },
    {
      "cell_type": "code",
      "source": [
        "stk = []\n",
        "\n",
        "def push(item):\n",
        "    stk.append(item)\n",
        "\n",
        "def pop():\n",
        "    if not is_empty():\n",
        "        return stk.pop()\n",
        "    else:\n",
        "        return None\n",
        "\n",
        "def is_empty():\n",
        "    return len(stk) == 0\n",
        "\n",
        "\n",
        "num_elements = int(input(\"Enter the number of elements: \"))\n",
        "for _ in range(num_elements):\n",
        "    element = int(input(\"Enter an element: \"))\n",
        "    push(element)\n",
        "\n",
        "smallest = float('inf')\n",
        "23\n",
        "while not is_empty():\n",
        "    current = pop()\n",
        "    smallest = min(smallest, current)\n",
        "\n",
        "if smallest != float('inf'):\n",
        "    print(\"The smallest number in the stack is:\", smallest)\n",
        "else:\n",
        "    print(\"The stack is empty.\")\n"
      ],
      "metadata": {
        "id": "7r2ipjc6aeqT",
        "colab": {
          "base_uri": "https://localhost:8080/"
        },
        "outputId": "7e01f240-62e8-40f0-ff11-5f83671d1d8d"
      },
      "execution_count": 9,
      "outputs": [
        {
          "output_type": "stream",
          "name": "stdout",
          "text": [
            "Enter the number of elements: 5\n",
            "Enter an element: 12\n",
            "Enter an element: 23\n",
            "Enter an element: 3\n",
            "Enter an element: 21\n",
            "Enter an element: 45\n",
            "The smallest number in the stack is: 3\n"
          ]
        }
      ]
    }
  ]
}